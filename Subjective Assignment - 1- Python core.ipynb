{
 "cells": [
  {
   "cell_type": "markdown",
   "metadata": {},
   "source": [
    "<h1><center>PYTHON SUBJECTIVE ASSIGNMENT-1.1</center></h1>"
   ]
  },
  {
   "cell_type": "markdown",
   "metadata": {},
   "source": [
    "Q1. Write a Python program to get the string from the given string where\n",
    "all the occurrence of its first char has been changed to '$,' except first\n",
    "char itself?\n",
    "\n",
    "    Sample String: 'prospect'\n",
    "    Expected Result : 'pros$ect'\n"
   ]
  },
  {
   "cell_type": "code",
   "execution_count": 1,
   "metadata": {},
   "outputs": [
    {
     "name": "stdout",
     "output_type": "stream",
     "text": [
      "prospect\n",
      "pros$ect\n"
     ]
    }
   ],
   "source": [
    "# Solution\n",
    "a = input()\n",
    "print(a[0]+a[1:].replace(a[0],'$'))"
   ]
  },
  {
   "cell_type": "markdown",
   "metadata": {},
   "source": [
    "<b>================================================================================================================</b>"
   ]
  },
  {
   "cell_type": "markdown",
   "metadata": {},
   "source": [
    "Q2. Write a Python program to get the single string from the two given\n",
    "strings, and separated by the space and swap the first two characters of\n",
    "each string?\n",
    "\n",
    "    Sample String : 'abc', 'xyz'.\n",
    "    Expected Result: 'xyc abz'"
   ]
  },
  {
   "cell_type": "code",
   "execution_count": 2,
   "metadata": {},
   "outputs": [
    {
     "name": "stdout",
     "output_type": "stream",
     "text": [
      "'abc', 'xyz'\n",
      "'xbc', 'ayz'\n"
     ]
    }
   ],
   "source": [
    "# Solution\n",
    "a = input().split()\n",
    "print(a[1][:2]+a[0][2:]+' '+a[0][:2]+a[1][2:]) "
   ]
  },
  {
   "cell_type": "markdown",
   "metadata": {},
   "source": [
    "<b>================================================================================================================</b>"
   ]
  },
  {
   "cell_type": "markdown",
   "metadata": {},
   "source": [
    "Q3. Write the Python program to add 'ing' at the end of the given string\n",
    "(length of the string should be at least 3). If given string already ends\n",
    "with 'ing,' then add 'ly' instead. If string length of the given string is less\n",
    "than 3, leave it unchanged?\n",
    "\n",
    "\n",
    "    Sample string: ' abc '\n",
    "    Expected result: ' abcing '\n",
    "    Sample string: ' string '\n",
    "    Expected result: ' stringly '\n"
   ]
  },
  {
   "cell_type": "code",
   "execution_count": 3,
   "metadata": {},
   "outputs": [
    {
     "name": "stdout",
     "output_type": "stream",
     "text": [
      "abc\n",
      "abcing\n"
     ]
    }
   ],
   "source": [
    "# Solution\n",
    "inp = input()\n",
    "if inp[-3:] == 'ing' and len(inp)>=3:\n",
    "    print(inp+'ly')\n",
    "elif inp[-3:] != 'ing' and len(inp)>=3:\n",
    "    print(inp+'ing')\n",
    "else:\n",
    "    print(inp)"
   ]
  },
  {
   "cell_type": "markdown",
   "metadata": {},
   "source": [
    "<b>================================================================================================================</b>"
   ]
  },
  {
   "cell_type": "markdown",
   "metadata": {},
   "source": [
    "Q4. Write the Python program to find the first appearance of the\n",
    "substring 'not' and 'poor' from the given string, if 'not' follows the 'poor',\n",
    "replace the whole 'not'...' poor' substring with 'good'.Return the resulting\n",
    "string.\n",
    "\n",
    "    Sample string: 'The lyrics are not that poor!'\n",
    "    'The lyrics are poor!'\n",
    "    Expected Result: 'The lyrics are good!'\n",
    "    'The lyrics are poor!'"
   ]
  },
  {
   "cell_type": "code",
   "execution_count": 4,
   "metadata": {},
   "outputs": [
    {
     "name": "stdout",
     "output_type": "stream",
     "text": [
      "The lyrics are not that poor!\n",
      "The lyrics are poor!\n"
     ]
    }
   ],
   "source": [
    "import re\n",
    "text=input()\n",
    "\n",
    "if re.search(r'not .* poor' , text):\n",
    "    are = re.compile(r'not .* poor')\n",
    "    q=are.sub('poor', text)\n",
    "    print(q)\n",
    "elif re.search(r'good' , text):\n",
    "    are = re.sub(r'good' , 'poor' , text)\n",
    "    print(are)"
   ]
  },
  {
   "cell_type": "markdown",
   "metadata": {},
   "source": [
    "<b>================================================================================================================</b>"
   ]
  },
  {
   "cell_type": "markdown",
   "metadata": {},
   "source": [
    "Q5. Write the Python program to remove the characters which have odd\n",
    "index values of a given string."
   ]
  },
  {
   "cell_type": "code",
   "execution_count": 5,
   "metadata": {},
   "outputs": [
    {
     "name": "stdout",
     "output_type": "stream",
     "text": [
      "testing1 string\n",
      "tsig tig\n"
     ]
    }
   ],
   "source": [
    "inp = input()\n",
    "\n",
    "z=''\n",
    "for _ in range(0 , len(inp), 2):\n",
    "    z+=inp[_]\n",
    "    \n",
    "print(z)"
   ]
  },
  {
   "cell_type": "markdown",
   "metadata": {},
   "source": [
    "<b>================================================================================================================</b>"
   ]
  },
  {
   "cell_type": "markdown",
   "metadata": {},
   "source": [
    "Q6. Write the python program to print the following floating numbers up\n",
    "to 2 decimal places?"
   ]
  },
  {
   "cell_type": "code",
   "execution_count": 6,
   "metadata": {},
   "outputs": [
    {
     "name": "stdout",
     "output_type": "stream",
     "text": [
      "23.12\n",
      "23.12\n"
     ]
    }
   ],
   "source": [
    "a=23.123456\n",
    "print('%0.2f'%a)\n",
    "\n",
    "# Another Solution\n",
    "print(\"{:0.2f}\".format(a))"
   ]
  },
  {
   "cell_type": "markdown",
   "metadata": {},
   "source": [
    "<b>================================================================================================================</b>"
   ]
  },
  {
   "cell_type": "markdown",
   "metadata": {},
   "source": [
    "Q7. Write the Python program to format a number with a percentage?"
   ]
  },
  {
   "cell_type": "code",
   "execution_count": 7,
   "metadata": {},
   "outputs": [
    {
     "name": "stdout",
     "output_type": "stream",
     "text": [
      "25.00%\n"
     ]
    }
   ],
   "source": [
    "a=0.25\n",
    "print(\"{:.2%}\".format(a))"
   ]
  },
  {
   "cell_type": "markdown",
   "metadata": {},
   "source": [
    "<b>================================================================================================================</b>"
   ]
  },
  {
   "cell_type": "markdown",
   "metadata": {},
   "source": [
    "Q8. Write the Python program to count occurrences of a substring in a\n",
    "String?"
   ]
  },
  {
   "cell_type": "code",
   "execution_count": 8,
   "metadata": {},
   "outputs": [
    {
     "name": "stdout",
     "output_type": "stream",
     "text": [
      "abc abcabc abcabcabcghhghabchh ggggabchhabc\n",
      "abc\n",
      "9\n"
     ]
    }
   ],
   "source": [
    "import re\n",
    "bigString = input()\n",
    "substr = input()\n",
    "a = re.findall(substr, bigString)\n",
    "print(len(a))"
   ]
  },
  {
   "cell_type": "markdown",
   "metadata": {},
   "source": [
    "<b>================================================================================================================</b>"
   ]
  },
  {
   "cell_type": "markdown",
   "metadata": {},
   "source": [
    "Q9. Write the Python program to count repeated characters in a string.\n",
    "\n",
    "    Sample string: ' thequickbrownjumpsoverthelazydog '\n",
    "    \n",
    "    Expected output:\n",
    "    o 3\n",
    "    e 3\n",
    "    u 2\n",
    "    h 2\n",
    "    r 2\n",
    "    t 2"
   ]
  },
  {
   "cell_type": "code",
   "execution_count": 9,
   "metadata": {},
   "outputs": [
    {
     "name": "stdout",
     "output_type": "stream",
     "text": [
      "thequickbrownjumpsoverthelazydog\n",
      "t 2\n",
      "h 2\n",
      "e 3\n",
      "u 2\n",
      "r 2\n",
      "o 3\n"
     ]
    }
   ],
   "source": [
    "cal = {}\n",
    "inp = list(input())\n",
    "for i in inp:\n",
    "    if cal.get(i, 0) == 0:\n",
    "        cal[i] = 1\n",
    "    else:\n",
    "        cal[i]+=1\n",
    "z= [(c,d) for c,d in cal.items() if d>1]\n",
    "for i in z:\n",
    "    print('{} {}'.format(i[0], i[1]))"
   ]
  },
  {
   "cell_type": "markdown",
   "metadata": {},
   "source": [
    "<b>================================================================================================================</b>"
   ]
  },
  {
   "cell_type": "markdown",
   "metadata": {},
   "source": [
    "Q10. Write the Python program to print the square and cube symbol in\n",
    "the area of a rectangle and volume of a cylinder?\n",
    "\n",
    "    Sample outputThe area of the rectangle is 1256.66cm2\n",
    "    The volume of the cylinder is 1254.725cm3\n"
   ]
  },
  {
   "cell_type": "code",
   "execution_count": 10,
   "metadata": {},
   "outputs": [
    {
     "name": "stdout",
     "output_type": "stream",
     "text": [
      "The area of the rectangle is 1256.66cm²\n",
      "The volume of the cylinder is 1254.725cm³\n"
     ]
    }
   ],
   "source": [
    "print(\"The area of the rectangle is 1256.66cm\\u00b2\")\n",
    "print(\"The volume of the cylinder is 1254.725cm\\u00b3\")"
   ]
  },
  {
   "cell_type": "markdown",
   "metadata": {},
   "source": [
    "<b>================================================================================================================</b>"
   ]
  },
  {
   "cell_type": "markdown",
   "metadata": {},
   "source": [
    "Q11. Write the Python program to check if a string contains all letters of\n",
    "the alphabet?"
   ]
  },
  {
   "cell_type": "code",
   "execution_count": 11,
   "metadata": {},
   "outputs": [
    {
     "name": "stdout",
     "output_type": "stream",
     "text": [
      "True\n"
     ]
    }
   ],
   "source": [
    "inp = 'The quick brown fox jumps over the lazy dog'\n",
    "\n",
    "box = set(inp.lower())\n",
    "count=0\n",
    "for _ in box:\n",
    "    if _.isalpha():\n",
    "        count+=1\n",
    "\n",
    "if count==26:\n",
    "    print(True)\n",
    "else:\n",
    "    print(False)\n"
   ]
  },
  {
   "cell_type": "markdown",
   "metadata": {},
   "source": [
    "<b>================================================================================================================</b>"
   ]
  },
  {
   "cell_type": "markdown",
   "metadata": {},
   "source": [
    "Q12. Write the Python program to find the second most repeated word\n",
    "in a given string?"
   ]
  },
  {
   "cell_type": "code",
   "execution_count": 12,
   "metadata": {},
   "outputs": [
    {
     "name": "stdout",
     "output_type": "stream",
     "text": [
      "vaibhav is my name. This assignment is my first python of ineuron\n",
      "the second most repeated word in a given string is:  name.\n"
     ]
    }
   ],
   "source": [
    "from operator import itemgetter \n",
    "inp = input().split()\n",
    "dic = dict()\n",
    "for i in inp:\n",
    "    dic[i]=dic.get(i,0)+1\n",
    "    \n",
    "dic = sorted(dic.items() , key= itemgetter(1))\n",
    "print('the second most repeated word in a given string is: ', dic[1][0])"
   ]
  },
  {
   "cell_type": "markdown",
   "metadata": {},
   "source": [
    "<b>================================================================================================================</b>"
   ]
  },
  {
   "cell_type": "markdown",
   "metadata": {},
   "source": [
    "Q13. Write the Python program to find the minimum window in the given\n",
    "string, which will contains all the characters of another given\n",
    "strings?\n",
    "\n",
    "    Example 1\n",
    "    Input : string1 = \" PRWSOERIUSFK \"\n",
    "    string2 = \" OSU \"\n",
    "    Output: Minimum window is \"OERIUS\""
   ]
  },
  {
   "cell_type": "code",
   "execution_count": 13,
   "metadata": {},
   "outputs": [
    {
     "name": "stdout",
     "output_type": "stream",
     "text": [
      "PRWSOERIUSFK\n",
      "OSU\n",
      "SOERIU\n"
     ]
    }
   ],
   "source": [
    "a, b = list(input()), list(input())\n",
    "low, high = None, None\n",
    "coun=0\n",
    "for i in range(len(a)):\n",
    "    if a[i] in b:\n",
    "        if low is None:\n",
    "            low, high = i, i    \n",
    "            coun+=1\n",
    "        else:\n",
    "            if coun == len(b):\n",
    "                break\n",
    "            high = i\n",
    "            coun+=1\n",
    "            \n",
    "print(''.join((a[low: high+1])))"
   ]
  },
  {
   "cell_type": "markdown",
   "metadata": {},
   "source": [
    "<b>================================================================================================================</b>"
   ]
  },
  {
   "cell_type": "markdown",
   "metadata": {},
   "source": [
    "Q14. Write the Python program to count number of substrings from a\n",
    "given string of lowercase alphabets with exactly k distinct (given)\n",
    "characters?\n",
    "\n",
    "    Input a string (lowercase alphabets): wolf\n",
    "    Input k: 4\n",
    "    Number of substrings with exactly 4 distinct characters: 1"
   ]
  },
  {
   "cell_type": "code",
   "execution_count": 14,
   "metadata": {},
   "outputs": [
    {
     "name": "stdout",
     "output_type": "stream",
     "text": [
      "Input a string (lowercase alphabets):wolf\n",
      "Input k: 3\n",
      "Number of substrings with exactly 3 distinct characters : 2\n"
     ]
    }
   ],
   "source": [
    "def count_k_dist(str1, k): \n",
    "    str_len = len(str1) \n",
    "\n",
    "    result = 0\n",
    "\n",
    "    ctr = [0] * 27\n",
    "\n",
    "    for i in range(0, str_len): \n",
    "        dist_ctr = 0\n",
    "\n",
    "        ctr = [0] * 27\n",
    "\n",
    "        for j in range(i, str_len): \n",
    "\n",
    "            if(ctr[ord(str1[j]) - 97] == 0): \n",
    "                dist_ctr += 1\n",
    "\n",
    "            ctr[ord(str1[j]) - 97] += 1\n",
    "\n",
    "            if(dist_ctr == k): \n",
    "                result += 1\n",
    "            if(dist_ctr > k): \n",
    "                break\n",
    "\n",
    "    return result \n",
    "\n",
    "str1 = input(\"Input a string (lowercase alphabets):\")\n",
    "k = int(input(\"Input k: \"))\n",
    "print(\"Number of substrings with exactly\", k, \"distinct characters : \", end = \"\") \n",
    "print(count_k_dist(str1, k))\n"
   ]
  },
  {
   "cell_type": "markdown",
   "metadata": {},
   "source": [
    "<b>================================================================================================================</b>"
   ]
  },
  {
   "cell_type": "markdown",
   "metadata": {},
   "source": [
    "Q15. Write the Python program to count number of substrings with same\n",
    "first and last characters of the given string?\n",
    "\n",
    "    Input a string: abcd\n",
    "    4\n"
   ]
  },
  {
   "cell_type": "code",
   "execution_count": 15,
   "metadata": {},
   "outputs": [
    {
     "name": "stdout",
     "output_type": "stream",
     "text": [
      "abcd\n",
      "4\n"
     ]
    }
   ],
   "source": [
    "text = list(input())\n",
    "\n",
    "count=0\n",
    "\n",
    "for i in range(len(text)):\n",
    "    for j in range(i+1 , len(text)+1):\n",
    "        m=''.join(text[i:j])\n",
    "        if m[0]==m[-1]:\n",
    "            count+=1\n",
    "        \n",
    "print(count)        \n"
   ]
  },
  {
   "cell_type": "markdown",
   "metadata": {},
   "source": [
    "<b>================================================================================================================</b>"
   ]
  }
 ],
 "metadata": {
  "kernelspec": {
   "display_name": "Python 3",
   "language": "python",
   "name": "python3"
  },
  "language_info": {
   "codemirror_mode": {
    "name": "ipython",
    "version": 3
   },
   "file_extension": ".py",
   "mimetype": "text/x-python",
   "name": "python",
   "nbconvert_exporter": "python",
   "pygments_lexer": "ipython3",
   "version": "3.7.3"
  }
 },
 "nbformat": 4,
 "nbformat_minor": 2
}
